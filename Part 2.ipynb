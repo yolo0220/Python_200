{
 "cells": [
  {
   "cell_type": "markdown",
   "metadata": {},
   "source": [
    "# PART 2 <초급> Python 프로그래밍 기초 다지기"
   ]
  },
  {
   "cell_type": "markdown",
   "metadata": {},
   "source": [
    "## 016 정수형 자료 이해하기"
   ]
  },
  {
   "cell_type": "code",
   "execution_count": 1,
   "metadata": {},
   "outputs": [
    {
     "name": "stdout",
     "output_type": "stream",
     "text": [
      "10\n",
      "2\n",
      "8\n",
      "16\n",
      "1234567890123456789\n"
     ]
    }
   ],
   "source": [
    "int_data = 10\n",
    "bin_data = 0b10 # 2진수 0b\n",
    "oct_data = 0o10 # 8진수 0o\n",
    "hex_data = 0x10 # 16진수 0x\n",
    "long_data = 1234567890123456789\n",
    "print(int_data)\n",
    "print(bin_data)\n",
    "print(oct_data)\n",
    "print(hex_data)\n",
    "print(long_data)"
   ]
  },
  {
   "cell_type": "markdown",
   "metadata": {},
   "source": [
    "## 017 실수형 자료 이해하기"
   ]
  },
  {
   "cell_type": "code",
   "execution_count": 2,
   "metadata": {},
   "outputs": [
    {
     "name": "stdout",
     "output_type": "stream",
     "text": [
      "1.0\n",
      "3.14\n",
      "1560.0\n",
      "-7e-05\n"
     ]
    }
   ],
   "source": [
    "f1 = 1.0\n",
    "f2 = 3.14\n",
    "f3 = 1.56e3\n",
    "f4 = -0.7e-4\n",
    "print(f1)\n",
    "print(f2)\n",
    "print(f3)\n",
    "print(f4)"
   ]
  },
  {
   "cell_type": "code",
   "execution_count": 3,
   "metadata": {},
   "outputs": [
    {
     "name": "stdout",
     "output_type": "stream",
     "text": [
      "6.0\n"
     ]
    }
   ],
   "source": [
    "i = 2; f = 4.0 # 정수형 자료와 실수형 자료는 연산해서 나오는 결과는 모두 실수형\n",
    "print(f + i)"
   ]
  },
  {
   "cell_type": "code",
   "execution_count": 4,
   "metadata": {},
   "outputs": [
    {
     "name": "stdout",
     "output_type": "stream",
     "text": [
      "8.0\n"
     ]
    }
   ],
   "source": [
    "print(f * i)"
   ]
  },
  {
   "cell_type": "code",
   "execution_count": 5,
   "metadata": {},
   "outputs": [
    {
     "name": "stdout",
     "output_type": "stream",
     "text": [
      "2.0\n"
     ]
    }
   ],
   "source": [
    "print(f / i)"
   ]
  },
  {
   "cell_type": "code",
   "execution_count": 6,
   "metadata": {},
   "outputs": [
    {
     "name": "stdout",
     "output_type": "stream",
     "text": [
      "2.0\n"
     ]
    }
   ],
   "source": [
    "print(4 / 2) # 나눗셈의 결과는 자료형에 상관없이 실수형 자료가 됨"
   ]
  },
  {
   "cell_type": "markdown",
   "metadata": {},
   "source": [
    "## 018 복소수형 자료 이해하기"
   ]
  },
  {
   "cell_type": "code",
   "execution_count": 7,
   "metadata": {},
   "outputs": [
    {
     "name": "stdout",
     "output_type": "stream",
     "text": [
      "1.0\n",
      "7.0\n",
      "(2-3j)\n"
     ]
    }
   ],
   "source": [
    "cl = 1+7j # 복소수형 상수 = 실수부 + 허수부\n",
    "print(cl.real) # 실수부\n",
    "print(cl.imag) # 허수부\n",
    "c2 = complex(2, -3)\n",
    "print(c2)"
   ]
  },
  {
   "cell_type": "markdown",
   "metadata": {},
   "source": [
    "## 019 대입 연산자 이해하기(=)"
   ]
  },
  {
   "cell_type": "code",
   "execution_count": 8,
   "metadata": {},
   "outputs": [
    {
     "name": "stdout",
     "output_type": "stream",
     "text": [
      "a와 b를 더한 값은 3입니다.\n"
     ]
    }
   ],
   "source": [
    "a = 1\n",
    "b = 2\n",
    "ret = a + b\n",
    "print('a와 b를 더한 값은 ', end = '')\n",
    "print(ret, end = '')\n",
    "print('입니다.')"
   ]
  },
  {
   "cell_type": "markdown",
   "metadata": {},
   "source": [
    "## 020 사칙 연산자 이해하기"
   ]
  },
  {
   "cell_type": "code",
   "execution_count": 9,
   "metadata": {
    "collapsed": true
   },
   "outputs": [],
   "source": [
    "a = 2\n",
    "b = 4\n",
    "ret1 = a + b\n",
    "ret2 = a - b\n",
    "ret3 = a * b\n",
    "ret4 = a / b\n",
    "ret5 = a ** b\n",
    "ret6 = a + a * b / a\n",
    "ret7 = (a + b)*(a - b)\n",
    "ret8 = a * b ** a"
   ]
  },
  {
   "cell_type": "code",
   "execution_count": 10,
   "metadata": {},
   "outputs": [
    {
     "name": "stdout",
     "output_type": "stream",
     "text": [
      "6 -2 8 0.5 16 6.0 -12 32\n"
     ]
    }
   ],
   "source": [
    "print(ret1, ret2, ret3, ret4, ret5, ret6, ret7, ret8)"
   ]
  },
  {
   "cell_type": "markdown",
   "metadata": {},
   "source": [
    "## 021 연산자 축약 이해하기(+=, -=, *=, /=)"
   ]
  },
  {
   "cell_type": "code",
   "execution_count": 11,
   "metadata": {
    "collapsed": true
   },
   "outputs": [],
   "source": [
    "a = 0\n",
    "a += 1 # a = a + 1, a의 값은 1\n",
    "a -= 5 # a = a - 5, a의 값은 -4\n",
    "a *= 2 # a = a * 2, a의 값은 -8\n",
    "a /= 4 # a= a /  , a의 값은 -2"
   ]
  },
  {
   "cell_type": "code",
   "execution_count": 12,
   "metadata": {},
   "outputs": [
    {
     "name": "stdout",
     "output_type": "stream",
     "text": [
      "-2.0\n"
     ]
    }
   ],
   "source": [
    "print(a)"
   ]
  },
  {
   "cell_type": "markdown",
   "metadata": {},
   "source": [
    "## 022 True와 False 이해하기"
   ]
  },
  {
   "cell_type": "code",
   "execution_count": 13,
   "metadata": {},
   "outputs": [
    {
     "name": "stdout",
     "output_type": "stream",
     "text": [
      "True\n",
      "False\n"
     ]
    }
   ],
   "source": [
    "a = True # True는 1값을 가짐\n",
    "b = False # True는 0값을 가짐\n",
    "print(a == 1)\n",
    "print(b != 0)"
   ]
  },
  {
   "cell_type": "markdown",
   "metadata": {},
   "source": [
    "## 023 관계 연산자 이해하기 (==, !=, < ,<=, >, >=)"
   ]
  },
  {
   "cell_type": "code",
   "execution_count": 14,
   "metadata": {},
   "outputs": [
    {
     "name": "stdout",
     "output_type": "stream",
     "text": [
      "False\n",
      "True\n",
      "False\n",
      "True\n",
      "True\n"
     ]
    }
   ],
   "source": [
    "x = 1\n",
    "y = 2\n",
    "str1 = 'abc'\n",
    "str2 = 'python'\n",
    "\n",
    "print(x == y)\n",
    "print(x != y)\n",
    "print(str1 == str2)\n",
    "print(str2 == 'python')\n",
    "print(str1 < str2) # 문자열의 크기는 사전 순서로 비교"
   ]
  },
  {
   "cell_type": "markdown",
   "metadata": {},
   "source": [
    "## 024 논리 연산자 이해하기 (and, or, not)"
   ]
  },
  {
   "cell_type": "code",
   "execution_count": 15,
   "metadata": {},
   "outputs": [
    {
     "name": "stdout",
     "output_type": "stream",
     "text": [
      "False\n",
      "True\n",
      "True\n",
      "False\n",
      "False\n",
      "True\n"
     ]
    }
   ],
   "source": [
    "bool1 = True\n",
    "bool2 = False\n",
    "bool3 = True\n",
    "bool4 = False\n",
    "\n",
    "print(bool1 and bool2) # A and B: A와 B가 모두 함이면 참\n",
    "print(bool1 and bool3)\n",
    "print(bool2 or bool3) # A or B: A,B 중 하나 이상이 참이면 참\n",
    "print(bool2 or bool4)\n",
    "print(not bool1)# not: 논리값의 반대\n",
    "print(not bool2)"
   ]
  },
  {
   "cell_type": "markdown",
   "metadata": {},
   "source": [
    "## 025 비트 연산자 이해하기 (&, |, ~, ^, >>, <<)"
   ]
  },
  {
   "cell_type": "code",
   "execution_count": 16,
   "metadata": {},
   "outputs": [
    {
     "name": "stdout",
     "output_type": "stream",
     "text": [
      "0x60\n",
      "0x63\n",
      "0x3\n",
      "0x30\n",
      "0x184\n"
     ]
    }
   ],
   "source": [
    "bit1 = 0x61 # 2진수로 0110 0001\n",
    "bit2 = 0x62 # 2진수로 0110 0010\n",
    "\n",
    "print(hex(bit1 & bit2)) # 0110 0000\n",
    "print(hex(bit1 | bit2)) # 0110 0011\n",
    "print(hex(bit1 ^ bit2)) # 0000 0011 두개의 비트값이 다른 경우1, 같은 경우 0\n",
    "print(hex(bit1 >> 1)) # 0011 0000 오른쪽으로 1만큼 시프트(오른쪽 비트는 없어지고, 왼쪽 비트는 최상위 비트로 채워짐)\n",
    "print(hex(bit1 << 2 )) # 0001 1000 0100 왼쪽으로 2만큼 시프트(1이 시작되기 전까지 왼쪽 비트는 없어지고, 오른쪽 비트는 0으로 채워짐)"
   ]
  },
  {
   "cell_type": "markdown",
   "metadata": {
    "collapsed": true
   },
   "source": [
    "## 026 시퀀스 자료형 이해하기"
   ]
  },
  {
   "cell_type": "markdown",
   "metadata": {},
   "source": [
    "시퀀스 자료형은 어떤 객체가 순서를 가지고 나열되어 있는 것"
   ]
  },
  {
   "cell_type": "code",
   "execution_count": 17,
   "metadata": {
    "collapsed": true
   },
   "outputs": [],
   "source": [
    "strdata = 'abcde' # 문자열은 시퀀스 자료형임\n",
    "listdata = [1, [2, 3], '안녕'] # 리스트는 시퀀스 자료형임\n",
    "tupledata = (100, 200, 300) # 튜플은 시퀀스 자료형임"
   ]
  },
  {
   "cell_type": "markdown",
   "metadata": {},
   "source": [
    "특성 | 설명\n",
    ":---:|:---\n",
    "인덱싱 | 인덱스를 통해 해당 값에 접근할 수 있습니다. 인덱스는 0부터 시작합니다.\n",
    "슬라이싱 | 특정 구간의 값을 취할 수 있습니다. 구간은 시작 인덱스와 끝 인덱스로 정의합니다.\n",
    "연결 | '+'연산자를 이용해 두 시퀀스 자료를 연결하여 새로운 시퀀스 자료로 생성합니다.\n",
    "반복 | '\\*'연산자를 이용해 시퀀스 자료를 여러 번 반복하여 새로운 시퀀스 자료로 생성합니다.\n",
    "멤버체크 | 'in'키워드를 사용하여 특정 값이 시퀀스 자료의 요소로 속해 있는지 확인할 수 있습니다.\n",
    "크기정보 | len()을 이용해 시퀀스 자료의 크기를 알 수 있습니다. 시퀀스 자료의 크기는 문자열의 경우 문자의 개수, 리스트와 튜플인 경우 멤버의 개수가 됩니다."
   ]
  },
  {
   "cell_type": "markdown",
   "metadata": {},
   "source": [
    "## 027 시퀀스 자료 인덱싱 이해하기"
   ]
  },
  {
   "cell_type": "code",
   "execution_count": 18,
   "metadata": {},
   "outputs": [
    {
     "name": "stdout",
     "output_type": "stream",
     "text": [
      "i\n",
      "!\n",
      "1\n",
      "[1, 2, 3]\n",
      "3\n"
     ]
    }
   ],
   "source": [
    "strdata = 'Time is money!!'\n",
    "listdata = [1, 2, [1, 2, 3]]\n",
    "\n",
    "print(strdata[5]) # i\n",
    "print(strdata[-2]) # !\n",
    "print(listdata[0]) # 1\n",
    "print(listdata[-1]) # [1, 2, 3]\n",
    "print(listdata[2][-1]) # 3"
   ]
  },
  {
   "cell_type": "markdown",
   "metadata": {},
   "source": [
    "strdata | T | i | m | e| | i | s | | m | o | n | e | y | ! | !\n",
    ":---:|:---:|:---:|:---:|:---:|:---:|:---:|:---:|:---:|:---:|:---:|:---:|:---:|:---:|:---:|:---:\n",
    "인덱스 | 0 | 1 | 2 | 3 | 4 | 5 | 6 | 7 | 8 | 9 | 10 | 11 | 12 | 13 | 14\n",
    " | -15 | -14 | -13 | -12 | -11 | -10 | -9 | -8 | -7 | -6 | -5 | -4 | -3 | -2 | -1"
   ]
  },
  {
   "cell_type": "markdown",
   "metadata": {},
   "source": [
    "## 028 시퀀스 자료 슬라이싱 이해하기"
   ]
  },
  {
   "cell_type": "code",
   "execution_count": 19,
   "metadata": {},
   "outputs": [
    {
     "name": "stdout",
     "output_type": "stream",
     "text": [
      "ime \n",
      "Time is\n",
      "oney!!\n",
      "Time is mone\n",
      "y!!\n",
      "Time is money!!\n",
      "Tm smny!\n"
     ]
    }
   ],
   "source": [
    "strdata = \"Time is money!!\"\n",
    "\n",
    "print(strdata[1:5]) # ime \n",
    "print(strdata[:7]) # Time is\n",
    "print(strdata[9:]) # oney!!\n",
    "print(strdata[:-3]) # Time is mone\n",
    "print(strdata[-3:]) # y!!\n",
    "print(strdata[:]) # Time is money!!\n",
    "print(strdata[::2]) # Tm smny!"
   ]
  },
  {
   "cell_type": "markdown",
   "metadata": {},
   "source": [
    "[시작 인덱스 : 끝 인덱스 : 스텝]"
   ]
  },
  {
   "cell_type": "markdown",
   "metadata": {},
   "source": [
    "슬라이싱 범위 | 의미\n",
    ":---:|:---\n",
    "[m:n] | 시퀀스 자료의 인덱스가 m 이상 n 미만인 요소를 슬라이싱합니다.\n",
    "[:n] | 시퀀스 자료의 처음부터 인덱스가 n 미만인 요소까지 슬라이싱합니다.\n",
    "[m:] | 시퀀스 자료의 인덱스가 m인 요소부터 시퀀스 자료의 끝까지 슬라이싱합니다.\n",
    "[:-n] | 시퀀스 자료의 처음부터 끝에서 n번째 미만인 요소까지 슬라이싱합니다.\n",
    "[-m:] | 시퀀스 자료의 끝에서 m번째 요소부터 시퀀스 자료의 끝까지 슬라이싱합니다."
   ]
  },
  {
   "cell_type": "markdown",
   "metadata": {},
   "source": [
    "## 029 시퀀스 자료 연결 이해하기(+)"
   ]
  },
  {
   "cell_type": "code",
   "execution_count": 20,
   "metadata": {},
   "outputs": [
    {
     "name": "stdout",
     "output_type": "stream",
     "text": [
      "I love Python\n",
      "I love you\n",
      "[1, 2, 3, 4, 5, 6]\n"
     ]
    }
   ],
   "source": [
    "strdata1 = 'I love '\n",
    "strdata2 = 'Python'\n",
    "strdata3 = 'you'\n",
    "listdata1 = [1, 2, 3]\n",
    "listdata2 = [4, 5, 6]\n",
    "\n",
    "print(strdata1 + strdata2) # I love Python\n",
    "print(strdata1 + strdata3) # I love you\n",
    "print(listdata1 + listdata2) # [1, 2, 3, 4, 5, 6]"
   ]
  },
  {
   "cell_type": "markdown",
   "metadata": {},
   "source": [
    "## 030 시퀀스 자료 반복 이해하기(*)"
   ]
  },
  {
   "cell_type": "code",
   "execution_count": 21,
   "metadata": {},
   "outputs": [
    {
     "name": "stdout",
     "output_type": "stream",
     "text": [
      "빅뱅이 부르는 뱅~뱅~뱅~\n"
     ]
    }
   ],
   "source": [
    "artist = '빅뱅'\n",
    "sing = '뱅~'\n",
    "dispdata = artist + '이 부르는 ' + sing * 3\n",
    "print(dispdata) # 빅뱅이 부르는 뱅~뱅~뱅~"
   ]
  },
  {
   "cell_type": "markdown",
   "metadata": {},
   "source": [
    "## 031 시퀀스 자료 크기 이해하기(len)"
   ]
  },
  {
   "cell_type": "code",
   "execution_count": 22,
   "metadata": {},
   "outputs": [
    {
     "name": "stdout",
     "output_type": "stream",
     "text": [
      "13\n",
      "13\n",
      "5\n",
      "13\n"
     ]
    }
   ],
   "source": [
    "strdata1 = 'I love python'\n",
    "strdata2 = '나는 파이썬을 사랑합니다'\n",
    "listdata = ['a', 'b', 'c', strdata1, strdata2]\n",
    "\n",
    "print(len(strdata1)) # 13\n",
    "print(len(strdata2)) # 13\n",
    "print(len(listdata)) # 5\n",
    "print(len(listdata[3])) # 13"
   ]
  },
  {
   "cell_type": "markdown",
   "metadata": {},
   "source": [
    "## 032 멤버체크 이해하기(in)"
   ]
  },
  {
   "cell_type": "code",
   "execution_count": 23,
   "metadata": {},
   "outputs": [
    {
     "name": "stdout",
     "output_type": "stream",
     "text": [
      "False\n",
      "True\n"
     ]
    }
   ],
   "source": [
    "listdata = [1, 2, 3, 4]\n",
    "\n",
    "ret1 = 5 in listdata # False\n",
    "ret2 = 4 in listdata # True\n",
    "\n",
    "print(ret1)\n",
    "print(ret2)"
   ]
  },
  {
   "cell_type": "code",
   "execution_count": 24,
   "metadata": {},
   "outputs": [
    {
     "name": "stdout",
     "output_type": "stream",
     "text": [
      "True\n",
      "False\n"
     ]
    }
   ],
   "source": [
    "strdata = 'abcde'\n",
    "\n",
    "ret3 = 'c' in strdata # True\n",
    "ret4 = 'l' in strdata # False\n",
    "\n",
    "print(ret3)\n",
    "print(ret4)"
   ]
  },
  {
   "cell_type": "markdown",
   "metadata": {},
   "source": [
    "## 033 문자열 이해하기"
   ]
  },
  {
   "cell_type": "code",
   "execution_count": 25,
   "metadata": {
    "collapsed": true
   },
   "outputs": [],
   "source": [
    "strdata1 = '나는 파이썬 프로그래머다'\n",
    "strdata2 = \"You are a programmer\"\n",
    "strdata3 = \"\"\"I love\n",
    "    python. You love\n",
    "python too!\n",
    "\"\"\"\n",
    "strdata4 = \" My son's name is John\"\n",
    "strdata5 = '문자열 \"abc\"의 길이는 3입니다.'"
   ]
  },
  {
   "cell_type": "markdown",
   "metadata": {},
   "source": [
    "## 034 문자열 포매팅 이해하기"
   ]
  },
  {
   "cell_type": "code",
   "execution_count": 26,
   "metadata": {},
   "outputs": [
    {
     "name": "stdout",
     "output_type": "stream",
     "text": [
      "나는 자바보다 파이썬에 더 익숙합니다.\n",
      "파이썬는 자바보다 5배 더 쉽습니다.\n",
      "5 + 10 = 15\n",
      "작년 세계 경제 성장률은 전년에 비해 5%포인트 증가했다.\n"
     ]
    }
   ],
   "source": [
    "txt1 = '자바'\n",
    "txt2 = '파이썬'\n",
    "num1 = 5\n",
    "num2 = 10\n",
    "\n",
    "print('나는 %s보다 %s에 더 익숙합니다.' % (txt1, txt2))\n",
    "print('%s는 %s보다 %d배 더 쉽습니다.' % (txt2, txt1, num1))\n",
    "print('%d + %d = %d' % (num1, num2, num1 + num2))\n",
    "print('작년 세계 경제 성장률은 전년에 비해 %d%%포인트 증가했다.' % num1)"
   ]
  },
  {
   "cell_type": "markdown",
   "metadata": {},
   "source": [
    "포맷 문자열 | 설명\n",
    ":---:|:---\n",
    "%s | 문자열에 대응됨\n",
    "%c | 문자나 기호 한 개에 대응됨\n",
    "%f | 실수에 대응됨\n",
    "%d | 정수에 대응됨\n",
    "%% | '%'라는 기호 자체를 표시함"
   ]
  },
  {
   "cell_type": "code",
   "execution_count": 27,
   "metadata": {},
   "outputs": [
    {
     "name": "stdout",
     "output_type": "stream",
     "text": [
      "진행률 100%"
     ]
    }
   ],
   "source": [
    "from time import sleep\n",
    "\n",
    "for i in range(100):\n",
    "    msg = '\\r진행률 %d%%' % (i + 1) # \\r 캐리지 리턴 문자: 현재 위치를 나타내는 커서를 화면 맨 앞으로 이동하라는 의미\n",
    "    print(''*len(msg), end='')\n",
    "    print(msg, end='')\n",
    "    sleep(0.1)"
   ]
  },
  {
   "cell_type": "markdown",
   "metadata": {},
   "source": [
    "## 035 이스케이프 문자 이해하기"
   ]
  },
  {
   "cell_type": "code",
   "execution_count": 28,
   "metadata": {},
   "outputs": [
    {
     "name": "stdout",
     "output_type": "stream",
     "text": [
      "나는 파이썬을 사랑합니다.\n",
      "파이썬은 자바보다 훨씬 쉽습니다.\n",
      "Name: John Smith\tSex: Male\tAge: 22\n",
      "이 문장은 화면폭에 비해 너무 길어 보기가 힘듭니다. 그래서 \\Enter키를 이용해 문장을 다음줄과 연속되도록 했습니다.\n",
      "작은따옴표(')와 따옴표(\")는 문자열을 정의할 때 사용합니다.\n"
     ]
    }
   ],
   "source": [
    "print('나는 파이썬을 사랑합니다.\\n파이썬은 자바보다 훨씬 쉽습니다.')\n",
    "print('Name: John Smith\\tSex: Male\\tAge: 22')\n",
    "print('이 문장은 화면폭에 비해 너무 길어 보기가 힘듭니다. \\\n",
    "그래서 \\\\Enter키를 이용해 문장을 다음줄과 연속되도록 했습니다.')\n",
    "print('작은따옴표(\\')와 따옴표(\")는 문자열을 정의할 때 사용합니다.')"
   ]
  },
  {
   "cell_type": "markdown",
   "metadata": {},
   "source": [
    "이스케이프 문자 | 설명\n",
    ":---:|:---\n",
    "\\n | 줄 바꾸기\n",
    "\\t | 탭\n",
    "\\Enter | 줄 계속(다음 줄도 계속되는 줄이라는 표시)\n",
    "\\\\ | '\\' 기호 자체\n",
    "\\' 또는 \\\" | ' 기호 또는 \" 기호 자체"
   ]
  },
  {
   "cell_type": "markdown",
   "metadata": {},
   "source": [
    "## 036 리스트 이해하기([ ])"
   ]
  },
  {
   "cell_type": "code",
   "execution_count": 29,
   "metadata": {},
   "outputs": [
    {
     "name": "stdout",
     "output_type": "stream",
     "text": [
      "[6, 2, 3, 4, 5]\n"
     ]
    }
   ],
   "source": [
    "list1 = [1, 2, 3, 4, 5]\n",
    "list2 = ['a', 'b', 'c']\n",
    "list3 = [1, 'a', 'abc', [1, 2, 3, 4, 5], ['a', 'b', 'c']]\n",
    "\n",
    "list1[0] = 6\n",
    "print(list1) # [6, 2, 3, 4, 5]"
   ]
  },
  {
   "cell_type": "code",
   "execution_count": 30,
   "metadata": {},
   "outputs": [
    {
     "name": "stdout",
     "output_type": "stream",
     "text": [
      "안녕하세요\n"
     ]
    }
   ],
   "source": [
    "def myfunc():\n",
    "    print('안녕하세요')\n",
    "\n",
    "list4 = [1, 2, myfunc]\n",
    "list4[2]() # ==myfunc(), 안녕하세요"
   ]
  },
  {
   "cell_type": "markdown",
   "metadata": {},
   "source": [
    "## 037 튜플 이애하기 (( ))"
   ]
  },
  {
   "cell_type": "code",
   "execution_count": 31,
   "metadata": {},
   "outputs": [
    {
     "ename": "TypeError",
     "evalue": "'tuple' object does not support item assignment",
     "output_type": "error",
     "traceback": [
      "\u001b[1;31m---------------------------------------------------------------------------\u001b[0m",
      "\u001b[1;31mTypeError\u001b[0m                                 Traceback (most recent call last)",
      "\u001b[1;32m<ipython-input-31-19374fa1e35e>\u001b[0m in \u001b[0;36m<module>\u001b[1;34m()\u001b[0m\n\u001b[0;32m      3\u001b[0m \u001b[0mtuple3\u001b[0m \u001b[1;33m=\u001b[0m \u001b[1;33m(\u001b[0m\u001b[1;36m1\u001b[0m\u001b[1;33m,\u001b[0m \u001b[1;34m'a'\u001b[0m\u001b[1;33m,\u001b[0m \u001b[1;34m'abc'\u001b[0m\u001b[1;33m,\u001b[0m \u001b[1;33m[\u001b[0m\u001b[1;36m1\u001b[0m\u001b[1;33m,\u001b[0m \u001b[1;36m2\u001b[0m\u001b[1;33m,\u001b[0m \u001b[1;36m3\u001b[0m\u001b[1;33m,\u001b[0m \u001b[1;36m4\u001b[0m\u001b[1;33m,\u001b[0m \u001b[1;36m5\u001b[0m\u001b[1;33m]\u001b[0m\u001b[1;33m,\u001b[0m \u001b[1;33m[\u001b[0m\u001b[1;34m'a'\u001b[0m\u001b[1;33m,\u001b[0m \u001b[1;34m'b'\u001b[0m\u001b[1;33m,\u001b[0m \u001b[1;34m'c'\u001b[0m\u001b[1;33m]\u001b[0m\u001b[1;33m)\u001b[0m\u001b[1;33m\u001b[0m\u001b[0m\n\u001b[0;32m      4\u001b[0m \u001b[1;33m\u001b[0m\u001b[0m\n\u001b[1;32m----> 5\u001b[1;33m \u001b[0mtuple1\u001b[0m\u001b[1;33m[\u001b[0m\u001b[1;36m0\u001b[0m\u001b[1;33m]\u001b[0m \u001b[1;33m=\u001b[0m \u001b[1;36m6\u001b[0m \u001b[1;31m# 튜플의 요소는 그 값을 변경할 수 없다\u001b[0m\u001b[1;33m\u001b[0m\u001b[0m\n\u001b[0m",
      "\u001b[1;31mTypeError\u001b[0m: 'tuple' object does not support item assignment"
     ]
    }
   ],
   "source": [
    "tuple1 = (1, 2, 3, 4, 5)\n",
    "tuple2 = ('a', 'b', 'c')\n",
    "tuple3 = (1, 'a', 'abc', [1, 2, 3, 4, 5], ['a', 'b', 'c'])\n",
    "\n",
    "tuple1[0] = 6 # 튜플의 요소는 그 값을 변경할 수 없다"
   ]
  },
  {
   "cell_type": "code",
   "execution_count": 32,
   "metadata": {},
   "outputs": [
    {
     "name": "stdout",
     "output_type": "stream",
     "text": [
      "안녕하세요\n"
     ]
    }
   ],
   "source": [
    "def myfunc():\n",
    "    print('안녕하세요')\n",
    "    \n",
    "tuple4 = (1, 2, myfunc)\n",
    "tuple4[2]() # ==myfunc(), 안녕하세요"
   ]
  },
  {
   "cell_type": "markdown",
   "metadata": {},
   "source": [
    "## 038 사전 이해하기 ({ })"
   ]
  },
  {
   "cell_type": "code",
   "execution_count": 33,
   "metadata": {},
   "outputs": [
    {
     "name": "stdout",
     "output_type": "stream",
     "text": [
      "1\n"
     ]
    }
   ],
   "source": [
    "dict1 = {'a': 1, 'b': 2, 'c': 3}\n",
    "print(dict1['a']) # 1"
   ]
  },
  {
   "cell_type": "code",
   "execution_count": 34,
   "metadata": {},
   "outputs": [
    {
     "name": "stdout",
     "output_type": "stream",
     "text": [
      "{'a': 1, 'b': 2, 'c': 3, 'd': 4}\n"
     ]
    }
   ],
   "source": [
    "dict1['d'] = 4\n",
    "print(dict1) # {'a': 1, 'b': 2, 'c': 3, 'd': 4}"
   ]
  },
  {
   "cell_type": "code",
   "execution_count": 35,
   "metadata": {},
   "outputs": [
    {
     "name": "stdout",
     "output_type": "stream",
     "text": [
      "{'a': 1, 'b': 7, 'c': 3, 'd': 4}\n",
      "4\n"
     ]
    }
   ],
   "source": [
    "dict1['b'] = 7\n",
    "print(dict1) # {'a': 1, 'b': 7, 'c': 3, 'd': 4} \n",
    "print(len(dict1)) # 4"
   ]
  },
  {
   "cell_type": "markdown",
   "metadata": {},
   "source": [
    "## 039 함수 이해하기(def)"
   ]
  },
  {
   "cell_type": "code",
   "execution_count": 36,
   "metadata": {},
   "outputs": [
    {
     "name": "stdout",
     "output_type": "stream",
     "text": [
      "25\n",
      "대한민국~만세!!\n"
     ]
    }
   ],
   "source": [
    "def add_number(n1, n2):\n",
    "    ret = n1 + n2\n",
    "    return ret\n",
    "\n",
    "def add_txt(t1, t2):\n",
    "    print(t1 + t2)\n",
    "    \n",
    "ans = add_number(10, 15)\n",
    "print(ans) # 25\n",
    "\n",
    "text1 = '대한민국~'\n",
    "text2 = '만세!!'\n",
    "add_txt(text1, text2) # 대한민국~만세!!"
   ]
  },
  {
   "cell_type": "markdown",
   "metadata": {},
   "source": [
    "**인자와 리턴값이 있는 함수 선언 방법**  \n",
    "`def 함수이름(인자1, 인자2, ...):  \n",
    "    코드들  \n",
    "    return 결과값`"
   ]
  },
  {
   "cell_type": "markdown",
   "metadata": {},
   "source": [
    "**리턴값은 있지만 인자가 없는 함수 선언 방법**  \n",
    "`def 함수이름():\n",
    "    코드들\n",
    "    return 결과값`"
   ]
  },
  {
   "cell_type": "markdown",
   "metadata": {},
   "source": [
    "**인자와 리턴값이 없는 함수 선언 방법**  \n",
    "`def 함수이름():\n",
    "    코드들\n",
    "    return (또는 생략)`"
   ]
  },
  {
   "cell_type": "markdown",
   "metadata": {},
   "source": [
    "**인자와 리턴값이 있는 함수 호출 방법**  \n",
    "`변수 = 함수이름(값1, 값2, ...)`"
   ]
  },
  {
   "cell_type": "markdown",
   "metadata": {},
   "source": [
    "**리턴값이 없는 함수 호출 방법**  \n",
    "`함수이름(값1, 값2, ...)`"
   ]
  },
  {
   "cell_type": "markdown",
   "metadata": {},
   "source": [
    "**인자와 리턴값이 없는 함수 호출 방법**  \n",
    "`함수이름()`"
   ]
  },
  {
   "cell_type": "markdown",
   "metadata": {},
   "source": [
    "## 040 함수 인자 이해하기"
   ]
  },
  {
   "cell_type": "code",
   "execution_count": 37,
   "metadata": {
    "collapsed": true
   },
   "outputs": [],
   "source": [
    "def add_txt(t1, t2='파이썬'):\n",
    "    print(t1 + ':' + t2)"
   ]
  },
  {
   "cell_type": "code",
   "execution_count": 38,
   "metadata": {},
   "outputs": [
    {
     "name": "stdout",
     "output_type": "stream",
     "text": [
      "베스트:파이썬\n"
     ]
    }
   ],
   "source": [
    "add_txt('베스트') # 베스트:파이썬"
   ]
  },
  {
   "cell_type": "code",
   "execution_count": 39,
   "metadata": {},
   "outputs": [
    {
     "name": "stdout",
     "output_type": "stream",
     "text": [
      "1등:대한민국\n"
     ]
    }
   ],
   "source": [
    "add_txt(t2='대한민국', t1='1등') # 1등:대한민국"
   ]
  },
  {
   "cell_type": "code",
   "execution_count": 40,
   "metadata": {
    "collapsed": true
   },
   "outputs": [],
   "source": [
    "def func1(*args): # 가변인자는 *을 붙임, args는 튜플형\n",
    "    print(args)"
   ]
  },
  {
   "cell_type": "code",
   "execution_count": 41,
   "metadata": {
    "collapsed": true
   },
   "outputs": [],
   "source": [
    "def func2(width, height, **kwargs): # kwargs는 사전형\n",
    "    print(kwargs)"
   ]
  },
  {
   "cell_type": "code",
   "execution_count": 42,
   "metadata": {},
   "outputs": [
    {
     "name": "stdout",
     "output_type": "stream",
     "text": [
      "()\n"
     ]
    }
   ],
   "source": [
    "func1() # ()"
   ]
  },
  {
   "cell_type": "code",
   "execution_count": 43,
   "metadata": {},
   "outputs": [
    {
     "name": "stdout",
     "output_type": "stream",
     "text": [
      "(3, 5, 1, 5)\n"
     ]
    }
   ],
   "source": [
    "func1(3, 5, 1, 5) # (3, 5, 1, 5)"
   ]
  },
  {
   "cell_type": "code",
   "execution_count": 44,
   "metadata": {},
   "outputs": [
    {
     "name": "stdout",
     "output_type": "stream",
     "text": [
      "{}\n"
     ]
    }
   ],
   "source": [
    "func2(10, 20) # {}"
   ]
  },
  {
   "cell_type": "code",
   "execution_count": 45,
   "metadata": {},
   "outputs": [
    {
     "name": "stdout",
     "output_type": "stream",
     "text": [
      "{'depth': 50, 'color': 'blue'}\n"
     ]
    }
   ],
   "source": [
    "func2(10, 20, depth = 50, color = 'blue') # {'depth': 50, 'color': 'blue'}"
   ]
  },
  {
   "cell_type": "markdown",
   "metadata": {},
   "source": [
    "## 041 지역변수와 전역변수 이해하기(global)"
   ]
  },
  {
   "cell_type": "code",
   "execution_count": 46,
   "metadata": {},
   "outputs": [
    {
     "name": "stdout",
     "output_type": "stream",
     "text": [
      "지역변수\n",
      "전역변수\n",
      "10\n",
      "10\n",
      "50\n"
     ]
    }
   ],
   "source": [
    "param = 10\n",
    "strdata = '전역변수'\n",
    "\n",
    "def func1():\n",
    "    strdata = '지역변수'\n",
    "    print(strdata)\n",
    "    \n",
    "def func2(param):\n",
    "    param = 1\n",
    "    \n",
    "def func3():\n",
    "    global param\n",
    "    param = 50\n",
    "    \n",
    "func1() # 지역변수\n",
    "print(strdata) # 전역변수\n",
    "print(param) # 10\n",
    "func2(param)\n",
    "print(param) # 10\n",
    "func3()\n",
    "print(param) # 50"
   ]
  },
  {
   "cell_type": "markdown",
   "metadata": {},
   "source": [
    "## 042 함수 리턴값 이해하기(return)"
   ]
  },
  {
   "cell_type": "code",
   "execution_count": 47,
   "metadata": {},
   "outputs": [
    {
     "name": "stdout",
     "output_type": "stream",
     "text": [
      "(3, 2, 1)\n",
      "c\n",
      "b\n",
      "a\n"
     ]
    }
   ],
   "source": [
    "def reverse(x, y, z):\n",
    "    return z, y, x\n",
    "\n",
    "ret = reverse(1, 2, 3)\n",
    "print(ret) # (3, 2, 1)\n",
    "\n",
    "r1, r2, r3 = reverse('a', 'b', 'c')\n",
    "print(r1) # c\n",
    "print(r2) # b\n",
    "print(r3) # a"
   ]
  },
  {
   "cell_type": "markdown",
   "metadata": {},
   "source": [
    "## 043 파이썬 모듈 이해하기"
   ]
  },
  {
   "cell_type": "code",
   "execution_count": 48,
   "metadata": {},
   "outputs": [
    {
     "name": "stdout",
     "output_type": "stream",
     "text": [
      "5초간 프로그램을 정지합니다.\n",
      "5초가 지나갔습니다.\n"
     ]
    }
   ],
   "source": [
    "import time\n",
    "\n",
    "print('5초간 프로그램을 정지합니다.')\n",
    "time.sleep(5)\n",
    "print('5초가 지나갔습니다.')"
   ]
  },
  {
   "cell_type": "markdown",
   "metadata": {},
   "source": [
    "이미 안정성이 검증된 함수들은 성격에 맞게 하나의 파이썬 파일에 묶어 만들어 놓은 것을 모듈이라 부른다.  \n",
    "외부 모듈에 있는 함수를 활용하려면, 모듈을 임포트(import)해야 한다."
   ]
  },
  {
   "cell_type": "code",
   "execution_count": 49,
   "metadata": {
    "collapsed": true
   },
   "outputs": [],
   "source": [
    "#mylib.py\n",
    "def add_txt(t1, t2):\n",
    "    return t1 + ':' + t2\n",
    "\n",
    "def reverse(x, y, z):\n",
    "    return z, y, x"
   ]
  },
  {
   "cell_type": "code",
   "execution_count": 50,
   "metadata": {},
   "outputs": [
    {
     "name": "stdout",
     "output_type": "stream",
     "text": [
      "대한민국:1등\n",
      "(3, 2, 1)\n"
     ]
    }
   ],
   "source": [
    "import mylib\n",
    "\n",
    "ret1 = mylib.add_txt('대한민국', '1등')\n",
    "ret2 = mylib.reverse(1, 2, 3)\n",
    "print(ret1) # 대한민국:1등\n",
    "print(ret2) # (3, 2, 1)"
   ]
  },
  {
   "cell_type": "markdown",
   "metadata": {
    "collapsed": true
   },
   "source": [
    "## 044 파이썬 패키지 이해하기"
   ]
  },
  {
   "cell_type": "code",
   "execution_count": 51,
   "metadata": {
    "collapsed": true
   },
   "outputs": [],
   "source": [
    "import mypackage.mylib"
   ]
  },
  {
   "cell_type": "code",
   "execution_count": 52,
   "metadata": {
    "collapsed": true
   },
   "outputs": [],
   "source": [
    "ret1 = mypackage.mylib.add_txt('대한민국', '1등')\n",
    "ret2 = mypackage.mylib.reverse(1, 2, 3)"
   ]
  },
  {
   "cell_type": "code",
   "execution_count": 53,
   "metadata": {},
   "outputs": [
    {
     "name": "stdout",
     "output_type": "stream",
     "text": [
      "대한민국:1등\n",
      "(3, 2, 1)\n"
     ]
    }
   ],
   "source": [
    "print(ret1)\n",
    "print(ret2)"
   ]
  },
  {
   "cell_type": "markdown",
   "metadata": {},
   "source": [
    "## 045 파이썬 모듈 임포트 이해하기 1 (import)"
   ]
  },
  {
   "cell_type": "code",
   "execution_count": 54,
   "metadata": {
    "collapsed": true
   },
   "outputs": [],
   "source": [
    "import time # 파이썬 내장 모듈인 time을 임포트함\n",
    "import mylib # 내가 작성한 mylib  모듈을 임포트함 # import 모듈이름\n",
    "import mypackage.mylib # mypackage에 있는 mylib 모듈을 임포트함 # import 패키지이름.모듈이름"
   ]
  },
  {
   "cell_type": "code",
   "execution_count": 55,
   "metadata": {
    "collapsed": true
   },
   "outputs": [],
   "source": [
    "time.sleep(1) # time 모듈의 sleep 함수를 이용해 1초간 정지"
   ]
  },
  {
   "cell_type": "code",
   "execution_count": 56,
   "metadata": {},
   "outputs": [
    {
     "data": {
      "text/plain": [
       "'나는:파이썬이다'"
      ]
     },
     "execution_count": 56,
     "metadata": {},
     "output_type": "execute_result"
    }
   ],
   "source": [
    "mylib.add_txt('나는','파이썬이다') # mylib 모듈의 add_txt 함수를 호출"
   ]
  },
  {
   "cell_type": "code",
   "execution_count": 57,
   "metadata": {},
   "outputs": [
    {
     "data": {
      "text/plain": [
       "(3, 2, 1)"
      ]
     },
     "execution_count": 57,
     "metadata": {},
     "output_type": "execute_result"
    }
   ],
   "source": [
    "mypackage.mylib.reverse(1, 2, 3) # mypackage.mylib 모듈의 reverse 함수 호출"
   ]
  },
  {
   "cell_type": "markdown",
   "metadata": {},
   "source": [
    "## 046 파이썬 모듈 임포트 이해하기 2 (from ~ import)"
   ]
  },
  {
   "cell_type": "code",
   "execution_count": 58,
   "metadata": {
    "collapsed": true
   },
   "outputs": [],
   "source": [
    "from time import sleep # from 모듈이름 import 함수이름\n",
    "from mypackage import mylib # from 패키지이름 import 모듈이름\n",
    "from mypackage.mylib import reverse"
   ]
  },
  {
   "cell_type": "code",
   "execution_count": 59,
   "metadata": {
    "collapsed": true
   },
   "outputs": [],
   "source": [
    "sleep(1) # time 모듈의 sleep 함수 호출"
   ]
  },
  {
   "cell_type": "code",
   "execution_count": 60,
   "metadata": {},
   "outputs": [
    {
     "data": {
      "text/plain": [
       "'나는:파이썬이다'"
      ]
     },
     "execution_count": 60,
     "metadata": {},
     "output_type": "execute_result"
    }
   ],
   "source": [
    "mylib.add_txt('나는','파이썬이다') # mypackeage.mylib 모듈의 sdd_txt 호출"
   ]
  },
  {
   "cell_type": "code",
   "execution_count": 61,
   "metadata": {},
   "outputs": [
    {
     "data": {
      "text/plain": [
       "(3, 2, 1)"
      ]
     },
     "execution_count": 61,
     "metadata": {},
     "output_type": "execute_result"
    }
   ],
   "source": [
    "reverse(1, 2, 3) # mypackage.mylib 모듈의 reverse 호출"
   ]
  },
  {
   "cell_type": "markdown",
   "metadata": {},
   "source": [
    "## 047 파이썬 모듈 임포트 이해하기 3 (import ~ as)"
   ]
  },
  {
   "cell_type": "code",
   "execution_count": 62,
   "metadata": {
    "collapsed": true
   },
   "outputs": [],
   "source": [
    "import mypackage as mp # import 이름이 긴 모듈명 as 별명\n",
    "import mypackage.mylib as ml"
   ]
  },
  {
   "cell_type": "code",
   "execution_count": 63,
   "metadata": {},
   "outputs": [
    {
     "data": {
      "text/plain": [
       "'대한민국:1등'"
      ]
     },
     "execution_count": 63,
     "metadata": {},
     "output_type": "execute_result"
    }
   ],
   "source": [
    "ret1 = mp.mylib.add_txt('대한민국','1등')\n",
    "ret1"
   ]
  },
  {
   "cell_type": "code",
   "execution_count": 64,
   "metadata": {},
   "outputs": [
    {
     "data": {
      "text/plain": [
       "(3, 2, 1)"
      ]
     },
     "execution_count": 64,
     "metadata": {},
     "output_type": "execute_result"
    }
   ],
   "source": [
    "ret2 = ml.reverse(1, 2, 3)\n",
    "ret2"
   ]
  },
  {
   "cell_type": "markdown",
   "metadata": {},
   "source": [
    "## 048 파일 열고 닫기 (open, close)"
   ]
  },
  {
   "cell_type": "code",
   "execution_count": 65,
   "metadata": {
    "collapsed": true
   },
   "outputs": [],
   "source": [
    "f1 = open('text.txt', 'r') # open(파일이름, 모드)\n",
    "f2 = open('./myimages/mypicture1.jpg','rb')\n",
    "\n",
    "#-------------------------------------\n",
    "# 오픈한 파일을 처리하는 코드를 작성함\n",
    "#-------------------------------------\n",
    "\n",
    "f1.close()\n",
    "f2.close()"
   ]
  },
  {
   "cell_type": "markdown",
   "metadata": {},
   "source": [
    "모드 | 설명\n",
    ":---:|:---\n",
    "r 또는 rt | 텍스트 모드로 읽기\n",
    "w 또는 wt | 텍스트 모드로 쓰기\n",
    "a 또는 at | 텍스트 모드로 파일 마지막에 추가하기\n",
    "rb | 바이너리 모드로 읽기\n",
    "wb | 바이너리 모드로 쓰기\n",
    "ab | 바이너리 모드로 파일 마지막에 추가하기"
   ]
  },
  {
   "cell_type": "markdown",
   "metadata": {},
   "source": [
    "## 049 클래스 이해하기 (class)"
   ]
  },
  {
   "cell_type": "code",
   "execution_count": 66,
   "metadata": {
    "collapsed": true
   },
   "outputs": [],
   "source": [
    "class MyClass:\n",
    "    var = '안녕하세요'\n",
    "    def sayHello(self):\n",
    "        print(self.var)"
   ]
  },
  {
   "cell_type": "code",
   "execution_count": 67,
   "metadata": {},
   "outputs": [
    {
     "name": "stdout",
     "output_type": "stream",
     "text": [
      "안녕하세요\n",
      "안녕하세요\n"
     ]
    }
   ],
   "source": [
    "obj = MyClass() # MyClass 인스턴트 객체 생성\n",
    "print(obj.var) # '안녕하세요'가 출력됨\n",
    "obj.sayHello() # '안녕하세요'가 출력됨"
   ]
  },
  {
   "cell_type": "markdown",
   "metadata": {},
   "source": [
    "## 050 클래스 멤버와 인스턴스 멤버 이해하기"
   ]
  },
  {
   "cell_type": "code",
   "execution_count": 68,
   "metadata": {
    "collapsed": true
   },
   "outputs": [],
   "source": [
    "class MyClass:\n",
    "    var = '안녕하세요!!'\n",
    "    def sayHello(self):\n",
    "        param1 = '안녕'\n",
    "        self.param2 = '하이'\n",
    "        print(param1) # '안녕'이 출력됨\n",
    "        print(self.var) # '안녕하세요'가 출력됨"
   ]
  },
  {
   "cell_type": "code",
   "execution_count": 69,
   "metadata": {},
   "outputs": [
    {
     "name": "stdout",
     "output_type": "stream",
     "text": [
      "안녕하세요!!\n"
     ]
    }
   ],
   "source": [
    "obj = MyClass()\n",
    "print(obj.var) # '안녕하세요'가 출력됨"
   ]
  },
  {
   "cell_type": "code",
   "execution_count": 70,
   "metadata": {},
   "outputs": [
    {
     "name": "stdout",
     "output_type": "stream",
     "text": [
      "안녕\n",
      "안녕하세요!!\n"
     ]
    }
   ],
   "source": [
    "obj.sayHello()"
   ]
  },
  {
   "cell_type": "code",
   "execution_count": 71,
   "metadata": {},
   "outputs": [
    {
     "ename": "AttributeError",
     "evalue": "'MyClass' object has no attribute 'param1'",
     "output_type": "error",
     "traceback": [
      "\u001b[1;31m---------------------------------------------------------------------------\u001b[0m",
      "\u001b[1;31mAttributeError\u001b[0m                            Traceback (most recent call last)",
      "\u001b[1;32m<ipython-input-71-dd45d799d262>\u001b[0m in \u001b[0;36m<module>\u001b[1;34m()\u001b[0m\n\u001b[1;32m----> 1\u001b[1;33m \u001b[0mobj\u001b[0m\u001b[1;33m.\u001b[0m\u001b[0mparam1\u001b[0m \u001b[1;31m# param1은 MyClass의 클래스 멤버인 sayHello()의 지역변수이므로 MyClass의 인스턴스 객체인 obj의 멤버로 참조가 불가능\u001b[0m\u001b[1;33m\u001b[0m\u001b[0m\n\u001b[0m",
      "\u001b[1;31mAttributeError\u001b[0m: 'MyClass' object has no attribute 'param1'"
     ]
    }
   ],
   "source": [
    "obj.param1 # param1은 MyClass의 클래스 멤버인 sayHello()의 지역변수이므로 MyClass의 인스턴스 객체인 obj의 멤버로 참조가 불가능"
   ]
  },
  {
   "cell_type": "markdown",
   "metadata": {},
   "source": [
    "## 051 클래스 메소드 이해하기"
   ]
  },
  {
   "cell_type": "code",
   "execution_count": 72,
   "metadata": {
    "collapsed": true
   },
   "outputs": [],
   "source": [
    "class MyClass:\n",
    "    def sayHello(self):\n",
    "        print('안녕하세요')\n",
    "        \n",
    "    def sayBye(self, name):\n",
    "        print('%s! 다음에 보자!' % name)"
   ]
  },
  {
   "cell_type": "code",
   "execution_count": 73,
   "metadata": {
    "collapsed": true
   },
   "outputs": [],
   "source": [
    "obj = MyClass()"
   ]
  },
  {
   "cell_type": "code",
   "execution_count": 74,
   "metadata": {},
   "outputs": [
    {
     "name": "stdout",
     "output_type": "stream",
     "text": [
      "안녕하세요\n"
     ]
    }
   ],
   "source": [
    "obj.sayHello() # '안녕하세요'가 출력됨"
   ]
  },
  {
   "cell_type": "code",
   "execution_count": 75,
   "metadata": {},
   "outputs": [
    {
     "name": "stdout",
     "output_type": "stream",
     "text": [
      "철수! 다음에 보자!\n"
     ]
    }
   ],
   "source": [
    "obj.sayBye('철수') # '철수! 다음에 보자!'가 출력됨"
   ]
  },
  {
   "cell_type": "markdown",
   "metadata": {},
   "source": [
    "## 052 클래스 생성자 이해하기"
   ]
  },
  {
   "cell_type": "code",
   "execution_count": 76,
   "metadata": {
    "collapsed": true
   },
   "outputs": [],
   "source": [
    "class MyClass:\n",
    "    def __init__(self): # def __init__(self, *args)\n",
    "        self.var = '안녕하세요!'\n",
    "        print('MyClass 인스턴스 객체가 생성되었습니다')"
   ]
  },
  {
   "cell_type": "code",
   "execution_count": 77,
   "metadata": {},
   "outputs": [
    {
     "name": "stdout",
     "output_type": "stream",
     "text": [
      "MyClass 인스턴스 객체가 생성되었습니다\n"
     ]
    }
   ],
   "source": [
    "obj = MyClass() # 'MyClass 인스턴스 객체가 생성되었습니다'가 출력"
   ]
  },
  {
   "cell_type": "code",
   "execution_count": 78,
   "metadata": {},
   "outputs": [
    {
     "name": "stdout",
     "output_type": "stream",
     "text": [
      "안녕하세요!\n"
     ]
    }
   ],
   "source": [
    "print(obj.var) # '안녕하세요!'가 출력됨"
   ]
  },
  {
   "cell_type": "code",
   "execution_count": 79,
   "metadata": {
    "collapsed": true
   },
   "outputs": [],
   "source": [
    "class MyClass:\n",
    "    def __init__(self, txt):\n",
    "        self.var = txt\n",
    "        print('생성자 인자로 전달받은 값은 <' + self.var +'>입니다.')"
   ]
  },
  {
   "cell_type": "code",
   "execution_count": 80,
   "metadata": {},
   "outputs": [
    {
     "name": "stdout",
     "output_type": "stream",
     "text": [
      "생성자 인자로 전달받은 값은 <철수>입니다.\n"
     ]
    }
   ],
   "source": [
    "obj = MyClass('철수')"
   ]
  },
  {
   "cell_type": "markdown",
   "metadata": {},
   "source": [
    "## 053 클래스 소멸자 이해하기"
   ]
  },
  {
   "cell_type": "code",
   "execution_count": 81,
   "metadata": {
    "collapsed": true
   },
   "outputs": [],
   "source": [
    "class MyClass:\n",
    "    def __del__(self): # 인스턴스 객체를 메모리에서 제거하려면 del키워드를 이용\n",
    "        print('MyClass 인스턴스 객체가 메모리에서 제거됩니다')"
   ]
  },
  {
   "cell_type": "code",
   "execution_count": 82,
   "metadata": {
    "collapsed": true
   },
   "outputs": [],
   "source": [
    "obj = MyClass()"
   ]
  },
  {
   "cell_type": "code",
   "execution_count": 83,
   "metadata": {},
   "outputs": [
    {
     "name": "stdout",
     "output_type": "stream",
     "text": [
      "MyClass 인스턴스 객체가 메모리에서 제거됩니다\n"
     ]
    }
   ],
   "source": [
    "del obj # del 인스턴스 객체"
   ]
  },
  {
   "cell_type": "markdown",
   "metadata": {},
   "source": [
    "## 054 클래스 상속 이해하기"
   ]
  },
  {
   "cell_type": "code",
   "execution_count": 84,
   "metadata": {
    "collapsed": true
   },
   "outputs": [],
   "source": [
    "class Add:\n",
    "    def add(self, n1, n2):\n",
    "        return n1 + n2"
   ]
  },
  {
   "cell_type": "code",
   "execution_count": 85,
   "metadata": {
    "collapsed": true
   },
   "outputs": [],
   "source": [
    "class Calculator(Add): # class 자식클래스(부모클래스)\n",
    "    def sub(self, n1, n2):\n",
    "        return n1 - n2"
   ]
  },
  {
   "cell_type": "code",
   "execution_count": 86,
   "metadata": {
    "collapsed": true
   },
   "outputs": [],
   "source": [
    "obj = Calculator()"
   ]
  },
  {
   "cell_type": "code",
   "execution_count": 87,
   "metadata": {},
   "outputs": [
    {
     "name": "stdout",
     "output_type": "stream",
     "text": [
      "3\n",
      "-1\n"
     ]
    }
   ],
   "source": [
    "print(obj.add(1, 2)) # 3이 출력됨\n",
    "print(obj.sub(1, 2)) # -1이 출력됨"
   ]
  },
  {
   "cell_type": "code",
   "execution_count": 88,
   "metadata": {
    "collapsed": true
   },
   "outputs": [],
   "source": [
    "class Add:\n",
    "    def add(self, n1, n2):\n",
    "        return n1 + n2\n",
    "    \n",
    "class Multiply:\n",
    "    def multiply(self, n1 ,n2):\n",
    "        return n1 * n2\n",
    "\n",
    "class Calculator(Add, Multiply): # class 자식클래스(부모클래스1, 부모클래스2, ...) : 다중상속\n",
    "    def sub(self, n1, n2):\n",
    "        return n1 - n2"
   ]
  },
  {
   "cell_type": "code",
   "execution_count": 89,
   "metadata": {
    "collapsed": true
   },
   "outputs": [],
   "source": [
    "obj = Calculator()"
   ]
  },
  {
   "cell_type": "code",
   "execution_count": 90,
   "metadata": {},
   "outputs": [
    {
     "name": "stdout",
     "output_type": "stream",
     "text": [
      "3\n",
      "6\n"
     ]
    }
   ],
   "source": [
    "print(obj.add(1, 2)) # 3이 출력됨\n",
    "print(obj.multiply(3, 2)) # 6이 출력됨"
   ]
  },
  {
   "cell_type": "markdown",
   "metadata": {},
   "source": [
    "## 055 예외처리 이해하기 1 (try ~ except)"
   ]
  },
  {
   "cell_type": "code",
   "execution_count": 91,
   "metadata": {},
   "outputs": [
    {
     "name": "stdout",
     "output_type": "stream",
     "text": [
      "안녕하세요.\n",
      "50\n"
     ]
    }
   ],
   "source": [
    "try:\n",
    "    print('안녕하세요.')\n",
    "    print(param) # 정의되지 않은 변수 param 오류 발생\n",
    "except: # 오류가 발생했을때 프로그램을 중단시키지 않고 예외에 대한 처리를 하여 계속 진행될 수 있게함\n",
    "    print('예외가 발생했습니다!') "
   ]
  },
  {
   "cell_type": "markdown",
   "metadata": {},
   "source": [
    "## 056 예외처리 이해하기 2 (try ~ except ~ else)"
   ]
  },
  {
   "cell_type": "code",
   "execution_count": 92,
   "metadata": {},
   "outputs": [
    {
     "name": "stdout",
     "output_type": "stream",
     "text": [
      "안녕하세요.\n",
      "50\n",
      "예외가 발생하지 않았습니다\n"
     ]
    }
   ],
   "source": [
    "try:\n",
    "    print('안녕하세요.')\n",
    "    print(param)\n",
    "except:\n",
    "    print('예외가 발생했습니다!')\n",
    "else:\n",
    "    print('예외가 발생하지 않았습니다')"
   ]
  },
  {
   "cell_type": "code",
   "execution_count": 93,
   "metadata": {},
   "outputs": [
    {
     "name": "stdout",
     "output_type": "stream",
     "text": [
      "안녕하세요.\n",
      "예외가 발생하지 않았습니다\n"
     ]
    }
   ],
   "source": [
    "try:\n",
    "    print('안녕하세요.')\n",
    "    # print(param)\n",
    "except:\n",
    "    print('예외가 발생했습니다!')\n",
    "else:\n",
    "    print('예외가 발생하지 않았습니다')"
   ]
  },
  {
   "cell_type": "markdown",
   "metadata": {},
   "source": [
    "## 057 예외처리 이해하기 3 (try ~ except ~ finally)"
   ]
  },
  {
   "cell_type": "code",
   "execution_count": 94,
   "metadata": {},
   "outputs": [
    {
     "name": "stdout",
     "output_type": "stream",
     "text": [
      "안녕하세요\n",
      "50\n",
      "무조건 실행하는 코드\n"
     ]
    }
   ],
   "source": [
    "try:\n",
    "    print('안녕하세요')\n",
    "    print(param)\n",
    "except:\n",
    "    print('예외가 발생했습니다!')\n",
    "finally:\n",
    "    print('무조건 실행하는 코드')"
   ]
  },
  {
   "cell_type": "code",
   "execution_count": 95,
   "metadata": {},
   "outputs": [
    {
     "name": "stdout",
     "output_type": "stream",
     "text": [
      "안녕하세요\n",
      "무조건 실행하는 코드\n"
     ]
    }
   ],
   "source": [
    "try:\n",
    "    print('안녕하세요')\n",
    "    # print(param)\n",
    "except:\n",
    "    print('예외가 발생했습니다!')\n",
    "finally:\n",
    "    print('무조건 실행하는 코드')"
   ]
  },
  {
   "cell_type": "markdown",
   "metadata": {},
   "source": [
    "## 058 예외처리 이해하기 4 (try ~ except Exception as e)"
   ]
  },
  {
   "cell_type": "code",
   "execution_count": 96,
   "metadata": {},
   "outputs": [
    {
     "name": "stdout",
     "output_type": "stream",
     "text": [
      "50\n"
     ]
    }
   ],
   "source": [
    "try:\n",
    "    print(param)\n",
    "except Exception as e:\n",
    "    print(e) # name 'param' is not defined가 출력됨"
   ]
  },
  {
   "cell_type": "markdown",
   "metadata": {},
   "source": [
    "http://docs.python.org/3/library/exceptions.html#bltin-exceptions"
   ]
  },
  {
   "cell_type": "markdown",
   "metadata": {},
   "source": [
    "## 059 예외처리 이해하기 5 (try ~ except 특정 예외)"
   ]
  },
  {
   "cell_type": "code",
   "execution_count": 97,
   "metadata": {},
   "outputs": [
    {
     "name": "stdout",
     "output_type": "stream",
     "text": [
      "1\n",
      "2\n",
      "3\n",
      "4\n",
      "5\n",
      "6\n",
      "사용자에 의해 프로그램이 중단되었습니다.\n"
     ]
    }
   ],
   "source": [
    "import time\n",
    "count = 1\n",
    "try:\n",
    "    while True:\n",
    "        print(count)\n",
    "        count += 1\n",
    "        time.sleep(0.5)\n",
    "except KeyboardInterrupt: # Ctrl + C가 입력되면 발생하는 오류\n",
    "    print('사용자에 의해 프로그램이 중단되었습니다.')"
   ]
  },
  {
   "cell_type": "code",
   "execution_count": null,
   "metadata": {
    "collapsed": true
   },
   "outputs": [],
   "source": []
  }
 ],
 "metadata": {
  "kernelspec": {
   "display_name": "Python 3",
   "language": "python",
   "name": "python3"
  },
  "language_info": {
   "codemirror_mode": {
    "name": "ipython",
    "version": 3
   },
   "file_extension": ".py",
   "mimetype": "text/x-python",
   "name": "python",
   "nbconvert_exporter": "python",
   "pygments_lexer": "ipython3",
   "version": "3.6.1"
  }
 },
 "nbformat": 4,
 "nbformat_minor": 2
}
